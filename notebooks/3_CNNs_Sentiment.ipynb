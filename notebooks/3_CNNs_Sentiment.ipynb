{
  "nbformat": 4,
  "nbformat_minor": 0,
  "metadata": {
    "colab": {
      "name": "3-CNNs-Sentiment.ipynb",
      "provenance": [],
      "collapsed_sections": [
        "9mOhAoO3h8zP",
        "6HvYbgCmdWgQ"
      ],
      "toc_visible": true
    },
    "kernelspec": {
      "display_name": "Python 3",
      "name": "python3"
    },
    "accelerator": "GPU"
  },
  "cells": [
    {
      "cell_type": "markdown",
      "metadata": {
        "id": "lE5pBQqVitJM"
      },
      "source": [
        "# Define CNN Architecture"
      ]
    },
    {
      "cell_type": "code",
      "metadata": {
        "id": "5-9ednz-ZkS0"
      },
      "source": [
        "import torch.nn as nn\r\n",
        "import torch.nn.functional as F\r\n",
        "\r\n",
        "class CNN(nn.Module):\r\n",
        "    def __init__(self, vocab_size, embedding_dim, n_filters, filter_sizes, output_dim, \r\n",
        "                 dropout, pad_idx):\r\n",
        "        super().__init__()\r\n",
        "        self.embedding = nn.Embedding(vocab_size, embedding_dim, padding_idx = pad_idx)\r\n",
        "        self.convs = nn.ModuleList([\r\n",
        "                                    nn.Conv2d(in_channels = 1, \r\n",
        "                                              out_channels = n_filters, \r\n",
        "                                              kernel_size = (fs, embedding_dim)) \r\n",
        "                                    for fs in filter_sizes\r\n",
        "                                    ])\r\n",
        "        # =========== OLD APPROACH FOR FIXED NUM OF DIFFERENT FILTERS =========== #\r\n",
        "        # self.conv_0 = nn.Conv2d(in_channels = 1, \r\n",
        "        #                         out_channels = n_filters, \r\n",
        "        #                         kernel_size = (filter_sizes[0], embedding_dim))\r\n",
        "        \r\n",
        "        # self.conv_1 = nn.Conv2d(in_channels = 1, \r\n",
        "        #                         out_channels = n_filters, \r\n",
        "        #                         kernel_size = (filter_sizes[1], embedding_dim))\r\n",
        "        \r\n",
        "        # self.conv_2 = nn.Conv2d(in_channels = 1, \r\n",
        "        #                         out_channels = n_filters, \r\n",
        "        #                         kernel_size = (filter_sizes[2], embedding_dim))\r\n",
        "        \r\n",
        "        self.fc = nn.Linear(len(filter_sizes) * n_filters, output_dim)\r\n",
        "        self.dropout = nn.Dropout(dropout)\r\n",
        "        \r\n",
        "    def forward(self, text):\r\n",
        "        #text = [batch size, sent len]\r\n",
        "        embedded = self.embedding(text)\r\n",
        "                \r\n",
        "        #embedded = [batch size, sent len, emb dim]\r\n",
        "        embedded = embedded.unsqueeze(1)\r\n",
        "        \r\n",
        "        #embedded = [batch size, 1, sent len, emb dim]\r\n",
        "        conved = [F.relu(conv(embedded)).squeeze(3) for conv in self.convs]\r\n",
        "            \r\n",
        "        #conved_n = [batch size, n_filters, sent len - filter_sizes[n] + 1]\r\n",
        "        pooled = [F.max_pool1d(conv, conv.shape[2]).squeeze(2) for conv in conved]\r\n",
        "\r\n",
        "        # =========== OLD APPROACH FOR FIXED NUM OF DIFFERENT FILTERS =========== #\r\n",
        "        # #embedded = [batch size, 1, sent len, emb dim]\r\n",
        "        \r\n",
        "        # conved_0 = F.relu(self.conv_0(embedded).squeeze(3))\r\n",
        "        # conved_1 = F.relu(self.conv_1(embedded).squeeze(3))\r\n",
        "        # conved_2 = F.relu(self.conv_2(embedded).squeeze(3))\r\n",
        "            \r\n",
        "        # #conved_n = [batch size, n_filters, sent len - filter_sizes[n] + 1]\r\n",
        "        \r\n",
        "        # pooled_0 = F.max_pool1d(conved_0, conved_0.shape[2]).squeeze(2)\r\n",
        "        # pooled_1 = F.max_pool1d(conved_1, conved_1.shape[2]).squeeze(2)\r\n",
        "        # pooled_2 = F.max_pool1d(conved_2, conved_2.shape[2]).squeeze(2)\r\n",
        "        \r\n",
        "        #pooled_n = [batch size, n_filters]\r\n",
        "        # cat = self.dropout(torch.cat((pooled_0, pooled_1, pooled_2), dim = 1))\r\n",
        "\r\n",
        "        #cat = [batch size, n_filters * len(filter_sizes)]\r\n",
        "        cat = self.dropout(torch.cat(pooled, dim = 1))\r\n",
        "        \r\n",
        "        return self.fc(cat)"
      ],
      "execution_count": 29,
      "outputs": []
    },
    {
      "cell_type": "code",
      "metadata": {
        "id": "zESTZmgwa0tP"
      },
      "source": [
        "# =========== EXPERIMENT WITH 1D CNN =========== #\r\n",
        "class CNN1d(nn.Module):\r\n",
        "    def __init__(self, vocab_size, embedding_dim, n_filters, filter_sizes, output_dim, \r\n",
        "                 dropout, pad_idx):\r\n",
        "        super().__init__()\r\n",
        "        self.embedding = nn.Embedding(vocab_size, embedding_dim, padding_idx = pad_idx)\r\n",
        "        self.convs = nn.ModuleList([\r\n",
        "                                    nn.Conv1d(in_channels = embedding_dim, \r\n",
        "                                              out_channels = n_filters, \r\n",
        "                                              kernel_size = fs)\r\n",
        "                                    for fs in filter_sizes\r\n",
        "                                    ])\r\n",
        "        self.fc = nn.Linear(len(filter_sizes) * n_filters, output_dim)\r\n",
        "        self.dropout = nn.Dropout(dropout)\r\n",
        "        \r\n",
        "    def forward(self, text):\r\n",
        "        #text = [batch size, sent len]\r\n",
        "        embedded = self.embedding(text)\r\n",
        "                \r\n",
        "        #embedded = [batch size, sent len, emb dim]\r\n",
        "        embedded = embedded.permute(0, 2, 1)\r\n",
        "        \r\n",
        "        #embedded = [batch size, emb dim, sent len]\r\n",
        "        conved = [F.relu(conv(embedded)) for conv in self.convs]\r\n",
        "            \r\n",
        "        #conved_n = [batch size, n_filters, sent len - filter_sizes[n] + 1]\r\n",
        "        pooled = [F.max_pool1d(conv, conv.shape[2]).squeeze(2) for conv in conved]\r\n",
        "        \r\n",
        "        #pooled_n = [batch size, n_filters]\r\n",
        "        cat = self.dropout(torch.cat(pooled, dim = 1))\r\n",
        "        \r\n",
        "        #cat = [batch size, n_filters * len(filter_sizes)]\r\n",
        "        return self.fc(cat)"
      ],
      "execution_count": 30,
      "outputs": []
    },
    {
      "cell_type": "markdown",
      "metadata": {
        "id": "y6e_fL0IjTDm"
      },
      "source": [
        "# Sentiment Data (IMDb Reviews)"
      ]
    },
    {
      "cell_type": "code",
      "metadata": {
        "id": "aVd_J4GKX75W"
      },
      "source": [
        "import torch\r\n",
        "from torchtext.legacy import data\r\n",
        "from torchtext.legacy import datasets\r\n",
        "import random\r\n",
        "import numpy as np\r\n",
        "\r\n",
        "SEED = 1234\r\n",
        "\r\n",
        "random.seed(SEED)\r\n",
        "np.random.seed(SEED)\r\n",
        "torch.manual_seed(SEED)\r\n",
        "torch.backends.cudnn.deterministic = True\r\n",
        "\r\n",
        "TEXT = data.Field(tokenize = 'spacy', \r\n",
        "                  tokenizer_language = 'en_core_web_sm',\r\n",
        "                  batch_first = True)\r\n",
        "LABEL = data.LabelField(dtype = torch.float)\r\n",
        "\r\n",
        "train_data, test_data = datasets.IMDB.splits(TEXT, LABEL)\r\n",
        "\r\n",
        "train_data, valid_data = train_data.split(random_state = random.seed(SEED))"
      ],
      "execution_count": 4,
      "outputs": []
    },
    {
      "cell_type": "code",
      "metadata": {
        "id": "TbigDx56ZYJi"
      },
      "source": [
        "MAX_VOCAB_SIZE = 25_000\r\n",
        "\r\n",
        "TEXT.build_vocab(train_data, \r\n",
        "                 max_size = MAX_VOCAB_SIZE, \r\n",
        "                 vectors = \"glove.6B.100d\", \r\n",
        "                 unk_init = torch.Tensor.normal_)\r\n",
        "\r\n",
        "LABEL.build_vocab(train_data)"
      ],
      "execution_count": 27,
      "outputs": []
    },
    {
      "cell_type": "code",
      "metadata": {
        "id": "DJS6alELZZbZ"
      },
      "source": [
        "BATCH_SIZE = 64\r\n",
        "\r\n",
        "device = torch.device('cuda' if torch.cuda.is_available() else 'cpu')\r\n",
        "\r\n",
        "train_iterator, valid_iterator, test_iterator = data.BucketIterator.splits(\r\n",
        "    (train_data, valid_data, test_data), \r\n",
        "    batch_size = BATCH_SIZE, \r\n",
        "    device = device)"
      ],
      "execution_count": 28,
      "outputs": []
    },
    {
      "cell_type": "code",
      "metadata": {
        "id": "Ge4t3lLsbmYJ"
      },
      "source": [
        "INPUT_DIM = len(TEXT.vocab)\r\n",
        "EMBEDDING_DIM = 100\r\n",
        "N_FILTERS = 100\r\n",
        "FILTER_SIZES = [3,4,5]\r\n",
        "OUTPUT_DIM = 1\r\n",
        "DROPOUT = 0.5\r\n",
        "PAD_IDX = TEXT.vocab.stoi[TEXT.pad_token]\r\n",
        "\r\n",
        "model = CNN(INPUT_DIM, EMBEDDING_DIM, N_FILTERS, FILTER_SIZES, OUTPUT_DIM, DROPOUT, PAD_IDX)"
      ],
      "execution_count": 31,
      "outputs": []
    },
    {
      "cell_type": "code",
      "metadata": {
        "colab": {
          "base_uri": "https://localhost:8080/"
        },
        "id": "SVwNqjgybvja",
        "outputId": "17eced09-e0af-467f-abd5-e754bd8965ca"
      },
      "source": [
        "def count_parameters(model):\r\n",
        "    return sum(p.numel() for p in model.parameters() if p.requires_grad)\r\n",
        "\r\n",
        "print(f'The model has {count_parameters(model):,} trainable parameters')"
      ],
      "execution_count": 32,
      "outputs": [
        {
          "output_type": "stream",
          "text": [
            "The model has 2,620,801 trainable parameters\n"
          ],
          "name": "stdout"
        }
      ]
    },
    {
      "cell_type": "code",
      "metadata": {
        "id": "nN6IX-Sob33N"
      },
      "source": [
        "pretrained_embeddings = TEXT.vocab.vectors\r\n",
        "model.embedding.weight.data.copy_(pretrained_embeddings)\r\n",
        "\r\n",
        "# zero initial weights of <unk> and <pad>\r\n",
        "UNK_IDX = TEXT.vocab.stoi[TEXT.unk_token]\r\n",
        "\r\n",
        "model.embedding.weight.data[UNK_IDX] = torch.zeros(EMBEDDING_DIM)\r\n",
        "model.embedding.weight.data[PAD_IDX] = torch.zeros(EMBEDDING_DIM)"
      ],
      "execution_count": 33,
      "outputs": []
    },
    {
      "cell_type": "markdown",
      "metadata": {
        "id": "MDGwUu21cDaa"
      },
      "source": [
        "## TRAINING"
      ]
    },
    {
      "cell_type": "code",
      "metadata": {
        "id": "lXgWo1_xcH2n"
      },
      "source": [
        "import torch.optim as optim\r\n",
        "\r\n",
        "optimizer = optim.Adam(model.parameters())\r\n",
        "criterion = nn.BCEWithLogitsLoss()\r\n",
        "model = model.to(device)\r\n",
        "criterion = criterion.to(device)"
      ],
      "execution_count": 34,
      "outputs": []
    },
    {
      "cell_type": "markdown",
      "metadata": {
        "id": "cQ1ALLsRh21w"
      },
      "source": [
        "###  Helpers"
      ]
    },
    {
      "cell_type": "code",
      "metadata": {
        "id": "I_v_e_wKc2Hl"
      },
      "source": [
        "def binary_accuracy(preds, y):\r\n",
        "    \"\"\"\r\n",
        "    Returns accuracy per batch, i.e. if you get 8/10 right, this returns 0.8, NOT 8\r\n",
        "    \"\"\"\r\n",
        "\r\n",
        "    #round predictions to the closest integer\r\n",
        "    rounded_preds = torch.round(torch.sigmoid(preds))\r\n",
        "    correct = (rounded_preds == y).float() #convert into float for division \r\n",
        "    acc = correct.sum() / len(correct)\r\n",
        "    return acc"
      ],
      "execution_count": 35,
      "outputs": []
    },
    {
      "cell_type": "code",
      "metadata": {
        "id": "PyIGPafQc8_H"
      },
      "source": [
        "def train(model, iterator, optimizer, criterion):\r\n",
        "    \r\n",
        "    epoch_loss = 0\r\n",
        "    epoch_acc = 0\r\n",
        "    \r\n",
        "    model.train()\r\n",
        "    \r\n",
        "    for batch in iterator:\r\n",
        "        optimizer.zero_grad()\r\n",
        "        predictions = model(batch.text).squeeze(1)\r\n",
        "        loss = criterion(predictions, batch.label)\r\n",
        "        acc = binary_accuracy(predictions, batch.label)\r\n",
        "        loss.backward()\r\n",
        "        optimizer.step()\r\n",
        "        \r\n",
        "        epoch_loss += loss.item()\r\n",
        "        epoch_acc += acc.item()\r\n",
        "        \r\n",
        "    return epoch_loss / len(iterator), epoch_acc / len(iterator)"
      ],
      "execution_count": 36,
      "outputs": []
    },
    {
      "cell_type": "code",
      "metadata": {
        "id": "peCIoLUpdB6_"
      },
      "source": [
        "def evaluate(model, iterator, criterion):\r\n",
        "    \r\n",
        "    epoch_loss = 0\r\n",
        "    epoch_acc = 0\r\n",
        "    \r\n",
        "    model.eval()\r\n",
        "    \r\n",
        "    with torch.no_grad():\r\n",
        "        for batch in iterator:\r\n",
        "            predictions = model(batch.text).squeeze(1)\r\n",
        "            loss = criterion(predictions, batch.label)\r\n",
        "            acc = binary_accuracy(predictions, batch.label)\r\n",
        "\r\n",
        "            epoch_loss += loss.item()\r\n",
        "            epoch_acc += acc.item()\r\n",
        "        \r\n",
        "    return epoch_loss / len(iterator), epoch_acc / len(iterator)"
      ],
      "execution_count": 37,
      "outputs": []
    },
    {
      "cell_type": "code",
      "metadata": {
        "id": "5F9GK6vEdFMK"
      },
      "source": [
        "import time\r\n",
        "\r\n",
        "def epoch_time(start_time, end_time):\r\n",
        "    elapsed_time = end_time - start_time\r\n",
        "    elapsed_mins = int(elapsed_time / 60)\r\n",
        "    elapsed_secs = int(elapsed_time - (elapsed_mins * 60))\r\n",
        "    return elapsed_mins, elapsed_secs"
      ],
      "execution_count": 38,
      "outputs": []
    },
    {
      "cell_type": "markdown",
      "metadata": {
        "id": "9mOhAoO3h8zP"
      },
      "source": [
        "### Training - Sentiment"
      ]
    },
    {
      "cell_type": "code",
      "metadata": {
        "colab": {
          "base_uri": "https://localhost:8080/"
        },
        "id": "t9xVio5adHMD",
        "outputId": "fb597303-be9c-41ed-ba4c-6033b15edbef"
      },
      "source": [
        "N_EPOCHS = 1\r\n",
        "best_valid_loss = float('inf')\r\n",
        "\r\n",
        "for epoch in range(N_EPOCHS):\r\n",
        "    start_time = time.time()\r\n",
        "    \r\n",
        "    train_loss, train_acc = train(model, train_iterator, optimizer, criterion)\r\n",
        "    valid_loss, valid_acc = evaluate(model, valid_iterator, criterion)\r\n",
        "    \r\n",
        "    end_time = time.time()\r\n",
        "\r\n",
        "    epoch_mins, epoch_secs = epoch_time(start_time, end_time)\r\n",
        "    \r\n",
        "    if valid_loss < best_valid_loss:\r\n",
        "        best_valid_loss = valid_loss\r\n",
        "        torch.save(model.state_dict(), 'CNN-sentiment.pt')\r\n",
        "    \r\n",
        "    print(f'Epoch: {epoch+1:02} | Epoch Time: {epoch_mins}m {epoch_secs}s')\r\n",
        "    print(f'\\tTrain Loss: {train_loss:.3f} | Train Acc: {train_acc*100:.2f}%')\r\n",
        "    print(f'\\t Val. Loss: {valid_loss:.3f} |  Val. Acc: {valid_acc*100:.2f}%')"
      ],
      "execution_count": 39,
      "outputs": [
        {
          "output_type": "stream",
          "text": [
            "Epoch: 01 | Epoch Time: 0m 32s\n",
            "\tTrain Loss: 0.660 | Train Acc: 60.24%\n",
            "\t Val. Loss: 0.531 |  Val. Acc: 77.01%\n",
            "Epoch: 02 | Epoch Time: 0m 31s\n",
            "\tTrain Loss: 0.436 | Train Acc: 79.69%\n",
            "\t Val. Loss: 0.354 |  Val. Acc: 84.85%\n",
            "Epoch: 03 | Epoch Time: 0m 31s\n",
            "\tTrain Loss: 0.302 | Train Acc: 87.50%\n",
            "\t Val. Loss: 0.317 |  Val. Acc: 86.62%\n",
            "Epoch: 04 | Epoch Time: 0m 31s\n",
            "\tTrain Loss: 0.227 | Train Acc: 90.87%\n",
            "\t Val. Loss: 0.307 |  Val. Acc: 86.99%\n",
            "Epoch: 05 | Epoch Time: 0m 31s\n",
            "\tTrain Loss: 0.162 | Train Acc: 94.11%\n",
            "\t Val. Loss: 0.318 |  Val. Acc: 86.97%\n"
          ],
          "name": "stdout"
        }
      ]
    },
    {
      "cell_type": "code",
      "metadata": {
        "colab": {
          "base_uri": "https://localhost:8080/"
        },
        "id": "bPUyrEyPdKnX",
        "outputId": "6d3182b0-de88-4b6d-e30a-d736b57f96e1"
      },
      "source": [
        "# Validation\r\n",
        "model.load_state_dict(torch.load('CNN-sentiment.pt'))\r\n",
        "\r\n",
        "test_loss, test_acc = evaluate(model, test_iterator, criterion)\r\n",
        "\r\n",
        "print(f'Test Loss: {test_loss:.3f} | Test Acc: {test_acc*100:.2f}%')"
      ],
      "execution_count": 40,
      "outputs": [
        {
          "output_type": "stream",
          "text": [
            "Test Loss: 0.337 | Test Acc: 85.49%\n"
          ],
          "name": "stdout"
        }
      ]
    },
    {
      "cell_type": "markdown",
      "metadata": {
        "id": "6HvYbgCmdWgQ"
      },
      "source": [
        "## Test - Sentiment"
      ]
    },
    {
      "cell_type": "code",
      "metadata": {
        "id": "j2JR2Jy7dS9g"
      },
      "source": [
        "import spacy\r\n",
        "nlp = spacy.load('en_core_web_sm')\r\n",
        "\r\n",
        "def predict_sentiment(model, sentence, min_len = 5):\r\n",
        "    model.eval()\r\n",
        "    tokenized = [tok.text for tok in nlp.tokenizer(sentence)]\r\n",
        "    if len(tokenized) < min_len:\r\n",
        "        tokenized += ['<pad>'] * (min_len - len(tokenized))\r\n",
        "    indexed = [TEXT.vocab.stoi[t] for t in tokenized]\r\n",
        "    tensor = torch.LongTensor(indexed).to(device)\r\n",
        "    tensor = tensor.unsqueeze(0)\r\n",
        "    prediction = torch.sigmoid(model(tensor))\r\n",
        "    return prediction.item()"
      ],
      "execution_count": 41,
      "outputs": []
    },
    {
      "cell_type": "code",
      "metadata": {
        "colab": {
          "base_uri": "https://localhost:8080/"
        },
        "id": "-FGFc3fedeLz",
        "outputId": "62794b53-0ca6-4f03-b30a-ca0f4b411f85"
      },
      "source": [
        "predict_sentiment(model, \"This is really poor\")"
      ],
      "execution_count": 74,
      "outputs": [
        {
          "output_type": "execute_result",
          "data": {
            "text/plain": [
              "0.13718309998512268"
            ]
          },
          "metadata": {
            "tags": []
          },
          "execution_count": 74
        }
      ]
    },
    {
      "cell_type": "markdown",
      "metadata": {
        "id": "KZ95laeYjw5q"
      },
      "source": [
        "# Emotion"
      ]
    },
    {
      "cell_type": "markdown",
      "metadata": {
        "id": "-yLNUuSLj3n7"
      },
      "source": [
        "# Formality"
      ]
    }
  ]
}